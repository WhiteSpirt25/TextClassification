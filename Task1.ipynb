{
 "cells": [
  {
   "cell_type": "markdown",
   "metadata": {},
   "source": [
    "# Задание 1"
   ]
  },
  {
   "cell_type": "code",
   "execution_count": 1,
   "metadata": {},
   "outputs": [],
   "source": [
    "def foldl(f, x0, lst):\n",
    "    if not lst:\n",
    "        return x0\n",
    "    return foldl(f, f(x0, lst[0]), lst[1:])\n",
    "\n",
    "def foldr(f, x0, lst):\n",
    "    if not lst:\n",
    "        return x0\n",
    "    return f(lst[0], foldr(f, x0, lst[1:]))"
   ]
  },
  {
   "cell_type": "code",
   "execution_count": 30,
   "metadata": {},
   "outputs": [],
   "source": [
    "def foldl2(f, x0, lst):\n",
    "    return foldr(lambda x,y: f(y,x), x0, lst[::-1])"
   ]
  },
  {
   "cell_type": "code",
   "execution_count": 40,
   "metadata": {},
   "outputs": [],
   "source": [
    "def foldr2(f, x0, lst):\n",
    "    return foldl(foldl(f,x0,[]), x0, lst) "
   ]
  },
  {
   "cell_type": "code",
   "execution_count": 42,
   "metadata": {},
   "outputs": [
    {
     "name": "stdout",
     "output_type": "stream",
     "text": [
      "Left\n",
      "0.041666666666666664\n",
      "1234\n",
      "Right\n",
      "0.375\n",
      "1234\n",
      "_________________________________________\n",
      "Left\n",
      "0.041666666666666664\n",
      "1234\n",
      "Right\n",
      "0.041666666666666664\n",
      "1234\n"
     ]
    }
   ],
   "source": [
    "test = [1,2,3,4]\n",
    "#foldl2(lambda x, y: '{}{}'.format(x, y), '',test)\n",
    "print('Left')\n",
    "print(foldl(lambda x, y: x/y, 1,test))\n",
    "print(foldl(lambda x, y: '{}{}'.format(x, y), '', test))\n",
    "print('Right')\n",
    "print(foldr(lambda x, y: x/y, 1,test))\n",
    "print(foldr(lambda x, y: '{}{}'.format(x, y), '', test))\n",
    "print('_________________________________________')\n",
    "print('Left')\n",
    "print(foldl2(lambda x, y: x/y, 1,test))\n",
    "print(foldl2(lambda x, y: '{}{}'.format(x, y), '', test))\n",
    "print('Right')\n",
    "print(foldr2(lambda x, y: x/y, 1,test))\n",
    "print(foldr2(lambda x, y: '{}{}'.format(x, y), '', test))"
   ]
  },
  {
   "cell_type": "markdown",
   "metadata": {
    "collapsed": true
   },
   "source": [
    "# Задание 2"
   ]
  },
  {
   "cell_type": "code",
   "execution_count": 1,
   "metadata": {},
   "outputs": [],
   "source": [
    "def check_inv(a,b):\n",
    "    for sym in b:\n",
    "        if sym not in a:\n",
    "            return false"
   ]
  },
  {
   "cell_type": "markdown",
   "metadata": {},
   "source": [
    "Наверняка"
   ]
  },
  {
   "cell_type": "code",
   "execution_count": 14,
   "metadata": {},
   "outputs": [],
   "source": [
    "def check_inv(a,b):\n",
    "    b_count = Counter(b)\n",
    "    for i in range(0,len(a)-len(b)+1):\n",
    "        if b_count == Counter(a[i:i+len(b)]):\n",
    "            return True\n",
    "    return False"
   ]
  },
  {
   "cell_type": "code",
   "execution_count": 18,
   "metadata": {
    "scrolled": true
   },
   "outputs": [
    {
     "data": {
      "text/plain": [
       "False"
      ]
     },
     "execution_count": 18,
     "metadata": {},
     "output_type": "execute_result"
    }
   ],
   "source": [
    "check_inv('123456879','635')"
   ]
  },
  {
   "cell_type": "code",
   "execution_count": 19,
   "metadata": {},
   "outputs": [
    {
     "data": {
      "text/plain": [
       "True"
      ]
     },
     "execution_count": 19,
     "metadata": {},
     "output_type": "execute_result"
    }
   ],
   "source": [
    "check_inv('0101010101000011111000111','1111')"
   ]
  },
  {
   "cell_type": "code",
   "execution_count": 35,
   "metadata": {},
   "outputs": [],
   "source": [
    "from collections import Counter"
   ]
  },
  {
   "cell_type": "code",
   "execution_count": 38,
   "metadata": {},
   "outputs": [
    {
     "data": {
      "text/plain": [
       "True"
      ]
     },
     "execution_count": 38,
     "metadata": {},
     "output_type": "execute_result"
    }
   ],
   "source": [
    "a = Counter('abcda')\n",
    "b = Counter('aabcd')\n",
    "a == b"
   ]
  },
  {
   "cell_type": "code",
   "execution_count": 43,
   "metadata": {},
   "outputs": [
    {
     "data": {
      "text/plain": [
       "True"
      ]
     },
     "execution_count": 43,
     "metadata": {},
     "output_type": "execute_result"
    }
   ],
   "source": [
    "check_in('1234567890','7456')"
   ]
  },
  {
   "cell_type": "code",
   "execution_count": 108,
   "metadata": {},
   "outputs": [
    {
     "data": {
      "text/plain": [
       "Counter({'1': 3, '2': 3, '3': 3, '4': 1, '5': 1, '6': 1})"
      ]
     },
     "execution_count": 108,
     "metadata": {},
     "output_type": "execute_result"
    }
   ],
   "source": [
    "c1 = Counter('123456123123')\n",
    "c2 = Counter('123')\n",
    "c1|c2"
   ]
  },
  {
   "cell_type": "markdown",
   "metadata": {},
   "source": [
    "Через counter по умному (не работает)"
   ]
  },
  {
   "cell_type": "code",
   "execution_count": 16,
   "metadata": {},
   "outputs": [],
   "source": [
    "from collections import Counter\n",
    "def check_in(a,b):\n",
    "    b_count = Counter(b)\n",
    "    beg = len(b)-1\n",
    "    while b[0] in a[beg:len(a)-len(b)+1]:\n",
    "        pos = a.find(b[0],beg,len(a)-len(b)+1)\n",
    "        for i in range(pos-len(b)+1,pos):\n",
    "            if b_count == Counter(a[i:i+len(b)]):\n",
    "                return True\n",
    "    return False"
   ]
  },
  {
   "cell_type": "code",
   "execution_count": 103,
   "metadata": {},
   "outputs": [
    {
     "ename": "KeyboardInterrupt",
     "evalue": "",
     "output_type": "error",
     "traceback": [
      "\u001b[1;31m---------------------------------------------------------------------------\u001b[0m",
      "\u001b[1;31mKeyboardInterrupt\u001b[0m                         Traceback (most recent call last)",
      "\u001b[1;32m<ipython-input-103-e4155930e0e7>\u001b[0m in \u001b[0;36m<module>\u001b[1;34m\u001b[0m\n\u001b[0;32m      1\u001b[0m \u001b[0ma\u001b[0m \u001b[1;33m=\u001b[0m \u001b[1;34m'123'\u001b[0m\u001b[1;33m\u001b[0m\u001b[1;33m\u001b[0m\u001b[0m\n\u001b[0;32m      2\u001b[0m \u001b[0mb\u001b[0m \u001b[1;33m=\u001b[0m \u001b[1;34m'1'\u001b[0m\u001b[1;33m\u001b[0m\u001b[1;33m\u001b[0m\u001b[0m\n\u001b[1;32m----> 3\u001b[1;33m \u001b[0mprint\u001b[0m\u001b[1;33m(\u001b[0m\u001b[0mcheck_in\u001b[0m\u001b[1;33m(\u001b[0m\u001b[0ma\u001b[0m\u001b[1;33m,\u001b[0m\u001b[0mb\u001b[0m\u001b[1;33m)\u001b[0m\u001b[1;33m)\u001b[0m\u001b[1;33m\u001b[0m\u001b[1;33m\u001b[0m\u001b[0m\n\u001b[0m",
      "\u001b[1;32m<ipython-input-102-32aeb1550f16>\u001b[0m in \u001b[0;36mcheck_in\u001b[1;34m(a, b)\u001b[0m\n\u001b[0;32m      3\u001b[0m     \u001b[0mb_count\u001b[0m \u001b[1;33m=\u001b[0m \u001b[0mCounter\u001b[0m\u001b[1;33m(\u001b[0m\u001b[0mb\u001b[0m\u001b[1;33m)\u001b[0m\u001b[1;33m\u001b[0m\u001b[1;33m\u001b[0m\u001b[0m\n\u001b[0;32m      4\u001b[0m     \u001b[0mbeg\u001b[0m \u001b[1;33m=\u001b[0m \u001b[0mlen\u001b[0m\u001b[1;33m(\u001b[0m\u001b[0mb\u001b[0m\u001b[1;33m)\u001b[0m\u001b[1;33m-\u001b[0m\u001b[1;36m1\u001b[0m\u001b[1;33m\u001b[0m\u001b[1;33m\u001b[0m\u001b[0m\n\u001b[1;32m----> 5\u001b[1;33m     \u001b[1;32mwhile\u001b[0m \u001b[0mb\u001b[0m\u001b[1;33m[\u001b[0m\u001b[1;36m0\u001b[0m\u001b[1;33m]\u001b[0m \u001b[1;32min\u001b[0m \u001b[0ma\u001b[0m\u001b[1;33m[\u001b[0m\u001b[0mbeg\u001b[0m\u001b[1;33m:\u001b[0m\u001b[0mlen\u001b[0m\u001b[1;33m(\u001b[0m\u001b[0ma\u001b[0m\u001b[1;33m)\u001b[0m\u001b[1;33m-\u001b[0m\u001b[0mlen\u001b[0m\u001b[1;33m(\u001b[0m\u001b[0mb\u001b[0m\u001b[1;33m)\u001b[0m\u001b[1;33m+\u001b[0m\u001b[1;36m1\u001b[0m\u001b[1;33m]\u001b[0m\u001b[1;33m:\u001b[0m\u001b[1;33m\u001b[0m\u001b[1;33m\u001b[0m\u001b[0m\n\u001b[0m\u001b[0;32m      6\u001b[0m         \u001b[0mpos\u001b[0m \u001b[1;33m=\u001b[0m \u001b[0ma\u001b[0m\u001b[1;33m.\u001b[0m\u001b[0mfind\u001b[0m\u001b[1;33m(\u001b[0m\u001b[0mb\u001b[0m\u001b[1;33m[\u001b[0m\u001b[1;36m0\u001b[0m\u001b[1;33m]\u001b[0m\u001b[1;33m,\u001b[0m\u001b[0mbeg\u001b[0m\u001b[1;33m,\u001b[0m\u001b[0mlen\u001b[0m\u001b[1;33m(\u001b[0m\u001b[0ma\u001b[0m\u001b[1;33m)\u001b[0m\u001b[1;33m-\u001b[0m\u001b[0mlen\u001b[0m\u001b[1;33m(\u001b[0m\u001b[0mb\u001b[0m\u001b[1;33m)\u001b[0m\u001b[1;33m+\u001b[0m\u001b[1;36m1\u001b[0m\u001b[1;33m)\u001b[0m\u001b[1;33m\u001b[0m\u001b[1;33m\u001b[0m\u001b[0m\n\u001b[0;32m      7\u001b[0m         \u001b[1;32mfor\u001b[0m \u001b[0mi\u001b[0m \u001b[1;32min\u001b[0m \u001b[0mrange\u001b[0m\u001b[1;33m(\u001b[0m\u001b[0mpos\u001b[0m\u001b[1;33m-\u001b[0m\u001b[0mlen\u001b[0m\u001b[1;33m(\u001b[0m\u001b[0mb\u001b[0m\u001b[1;33m)\u001b[0m\u001b[1;33m+\u001b[0m\u001b[1;36m1\u001b[0m\u001b[1;33m,\u001b[0m\u001b[0mpos\u001b[0m\u001b[1;33m)\u001b[0m\u001b[1;33m:\u001b[0m\u001b[1;33m\u001b[0m\u001b[1;33m\u001b[0m\u001b[0m\n",
      "\u001b[1;31mKeyboardInterrupt\u001b[0m: "
     ]
    }
   ],
   "source": [
    "a = '123'\n",
    "b = '1'\n",
    "print(check_in(a,b))"
   ]
  },
  {
   "cell_type": "markdown",
   "metadata": {},
   "source": [
    "# Задание 3"
   ]
  },
  {
   "cell_type": "code",
   "execution_count": 12,
   "metadata": {},
   "outputs": [],
   "source": [
    "class Tree:\n",
    "    def __init__(self, value=None, left=None, right=None):\n",
    "        self.left = left\n",
    "        self.right = right\n",
    "        self.value = value\n",
    "        \n",
    "    def __iter__(self):\n",
    "        if self.left is not None:\n",
    "            yield from iter(self.left)     \n",
    "                \n",
    "        if self.right is not None:\n",
    "            yield from iter(self.right)\n",
    "            \n",
    "        if self.left == self.right == None :\n",
    "            yield self.value\n",
    "                   \n",
    "    def __str__(self):\n",
    "        return  f'{self.value} left:{str(self.left)} right:{str(self.right)}'\n",
    "    \n",
    "    def __repr__(self):\n",
    "        return f'Tree({self.value},{repr(self.left)},{repr(self.right)})'"
   ]
  },
  {
   "cell_type": "code",
   "execution_count": 13,
   "metadata": {},
   "outputs": [
    {
     "data": {
      "text/plain": [
       "[3, 4, 2]"
      ]
     },
     "execution_count": 13,
     "metadata": {},
     "output_type": "execute_result"
    }
   ],
   "source": [
    "tree = Tree(0, Tree(1, Tree(3), Tree(4)),Tree(2))\n",
    "list(tree)"
   ]
  },
  {
   "cell_type": "markdown",
   "metadata": {},
   "source": [
    "# Задание 4"
   ]
  },
  {
   "cell_type": "code",
   "execution_count": 91,
   "metadata": {},
   "outputs": [],
   "source": [
    "import re\n",
    "def list_calc(numbers,signs):# функция обрабатывает 2 списка: список строк с положительными числами и список строк операций +-*/\n",
    "    #делаю список чисел из списка строк\n",
    "    numbers = [int(i) for i in numbers] \n",
    "    #ищу знак в списке, после чего удаляю и применяю к соотвествующим числам, \n",
    "    #а результат записываю вместо одного из чисел(второе удаляю)\n",
    "    while '/' in signs:\n",
    "        op_index = signs.index('/')\n",
    "        signs.pop(op_index)\n",
    "        deleted_number = numbers.pop(op_index)\n",
    "        numbers[op_index] = deleted_number / numbers[op_index]\n",
    "    while '*' in signs:\n",
    "        op_index = signs.index('*')\n",
    "        signs.pop(op_index)\n",
    "        deleted_number = numbers.pop(op_index)\n",
    "        numbers[op_index] = deleted_number * numbers[op_index]\n",
    "    while '-' in signs:\n",
    "        op_index = signs.index('-')\n",
    "        signs.pop(op_index)\n",
    "        deleted_number = numbers.pop(op_index)\n",
    "        numbers[op_index] = deleted_number - numbers[op_index]\n",
    "    while '+' in signs:\n",
    "        op_index = signs.index('+')\n",
    "        signs.pop(op_index)\n",
    "        deleted_number = numbers.pop(op_index)\n",
    "        numbers[op_index] = deleted_number + numbers[op_index]\n",
    "    return numbers[0]\n",
    "def calc(expr):\n",
    "    #раскрываю скобки\n",
    "    while '(' in expr:\n",
    "        #за каждую открытую скобку +1 за закрытую -1, если 0, то значит что самая большая скобка закрылась и\n",
    "        #можно рекурсивно её обработать заменив в строке с помощью replace на результат\n",
    "        beg = i = expr.index('(')\n",
    "        bracket_counter = 1\n",
    "        while bracket_counter > 0:\n",
    "            i += 1\n",
    "            if expr[i] == '(':\n",
    "                bracket_counter += 1\n",
    "            elif expr[i] == ')':\n",
    "                bracket_counter -= 1\n",
    "        expr = expr.replace( expr[beg:i],str( calc(expr[beg+1:i]) ) )\n",
    "    # в случае если первое число отрицательное (-2+3...)\n",
    "    if expr[0] == '-':\n",
    "        expr = '0'+expr\n",
    "    #разделяем строну на числа и знаки\n",
    "    numbers = re.findall(r'[0-9]+', expr)\n",
    "    signs = re.findall(r'[\\+\\-\\*/]+', expr)\n",
    "    return list_calc(numbers,signs)"
   ]
  },
  {
   "cell_type": "code",
   "execution_count": 105,
   "metadata": {},
   "outputs": [
    {
     "data": {
      "text/plain": [
       "4"
      ]
     },
     "execution_count": 105,
     "metadata": {},
     "output_type": "execute_result"
    }
   ],
   "source": [
    "expr = '2 * (15 - 3 * 4) - 2'\n",
    "calc(expr)"
   ]
  },
  {
   "cell_type": "code",
   "execution_count": null,
   "metadata": {},
   "outputs": [],
   "source": []
  }
 ],
 "metadata": {
  "kernelspec": {
   "display_name": "Python 3",
   "language": "python",
   "name": "python3"
  },
  "language_info": {
   "codemirror_mode": {
    "name": "ipython",
    "version": 3
   },
   "file_extension": ".py",
   "mimetype": "text/x-python",
   "name": "python",
   "nbconvert_exporter": "python",
   "pygments_lexer": "ipython3",
   "version": "3.7.4"
  }
 },
 "nbformat": 4,
 "nbformat_minor": 1
}
