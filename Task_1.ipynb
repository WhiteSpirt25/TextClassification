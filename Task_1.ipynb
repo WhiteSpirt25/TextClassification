{
 "cells": [
  {
   "cell_type": "markdown",
   "metadata": {},
   "source": [
    "# Задание 1\n",
    "\n",
    "[Свертка списка](https://ru.wikipedia.org/wiki/%D0%A1%D0%B2%D1%91%D1%80%D1%82%D0%BA%D0%B0_%D1%81%D0%BF%D0%B8%D1%81%D0%BA%D0%B0) -  это обобщенная операция над списком, c помощью которой можно преобразовать список в единое значение. Например, рассмотрим реализации свертки слева и свертки справа (левоассоциативную свертку и правоассоциативную свертку):"
   ]
  },
  {
   "cell_type": "code",
   "execution_count": 2,
   "metadata": {
    "collapsed": true,
    "jupyter": {
     "outputs_hidden": true
    }
   },
   "outputs": [],
   "source": [
    "def foldl(f, x0, lst):\n",
    "    if not lst:\n",
    "        return x0\n",
    "    return foldl(f, f(x0, lst[0]), lst[1:])\n",
    "\n",
    "def foldr(f, x0, lst):\n",
    "    if not lst:\n",
    "        return x0\n",
    "    return f(lst[0], foldr(f, x0, lst[1:]))"
   ]
  },
  {
   "cell_type": "code",
   "execution_count": 3,
   "metadata": {},
   "outputs": [
    {
     "data": {
      "text/plain": [
       "6"
      ]
     },
     "execution_count": 3,
     "metadata": {},
     "output_type": "execute_result"
    }
   ],
   "source": [
    "#сумма\n",
    "foldl(lambda x, y: x + y, 0, [1, 2, 3])"
   ]
  },
  {
   "cell_type": "code",
   "execution_count": 4,
   "metadata": {},
   "outputs": [
    {
     "data": {
      "text/plain": [
       "'123'"
      ]
     },
     "execution_count": 4,
     "metadata": {},
     "output_type": "execute_result"
    }
   ],
   "source": [
    "#конкатенация\n",
    "foldl(lambda x, y: '{}{}'.format(x, y), '', [1, 2, 3])"
   ]
  },
  {
   "cell_type": "code",
   "execution_count": 5,
   "metadata": {},
   "outputs": [
    {
     "data": {
      "text/plain": [
       "(0.16666666666666666, 1.5)"
      ]
     },
     "execution_count": 5,
     "metadata": {},
     "output_type": "execute_result"
    }
   ],
   "source": [
    "f = lambda x, y: x / y\n",
    "foldl(f, 1, [1, 2, 3]), \\\n",
    "foldr(f, 1, [1, 2, 3])"
   ]
  },
  {
   "cell_type": "markdown",
   "metadata": {},
   "source": [
    "Задача: реализовать foldl через foldr и наоборот. Вместо многоточий нужно вставить выражения, которые бы привели к нужному результату."
   ]
  },
  {
   "cell_type": "code",
   "execution_count": 6,
   "metadata": {
    "collapsed": true,
    "jupyter": {
     "outputs_hidden": true
    }
   },
   "outputs": [],
   "source": [
    "def foldl2(f, x0, lst):\n",
    "    return foldr(..., ..., lst)(...)"
   ]
  },
  {
   "cell_type": "code",
   "execution_count": 7,
   "metadata": {
    "collapsed": true,
    "jupyter": {
     "outputs_hidden": true
    }
   },
   "outputs": [],
   "source": [
    "def foldr2(f, x0, lst):\n",
    "    return foldl(..., ..., lst)(...)"
   ]
  },
  {
   "cell_type": "markdown",
   "metadata": {},
   "source": [
    "# Задание 2\n",
    "\n",
    "нужно написать функцию, которая принимает две строки и проверяет, входит ли хотя бы одна перестановка второй строки в первую. Например:\n",
    "\n",
    "> a = 'abcrotm'\n",
    "> \n",
    "> b = 'tro'\n",
    "\n",
    "функция def check_inv(a, b) вернет True, так как 'rot' содержится в 'abcrotm'. Нужно подумать как можно более оптимальный алгоритм и оценить его сложность. "
   ]
  },
  {
   "cell_type": "markdown",
   "metadata": {},
   "source": [
    "### Сложность О( len(a) * Counter[len(b)] ) ,где Counter() - сложность работы его конструктора "
   ]
  },
  {
   "cell_type": "code",
   "execution_count": 4,
   "metadata": {},
   "outputs": [],
   "source": [
    "from collections import Counter\n",
    "def check_inv(a,b):\n",
    "    b_count = Counter(b)\n",
    "    for i in range(0,len(a)-len(b)+1):\n",
    "        if b_count == Counter(a[i:i+len(b)]):\n",
    "            return True\n",
    "    return False"
   ]
  },
  {
   "cell_type": "code",
   "execution_count": 7,
   "metadata": {
    "scrolled": true
   },
   "outputs": [
    {
     "data": {
      "text/plain": [
       "True"
      ]
     },
     "execution_count": 7,
     "metadata": {},
     "output_type": "execute_result"
    }
   ],
   "source": [
    "check_inv('123456879','685')"
   ]
  },
  {
   "cell_type": "markdown",
   "metadata": {},
   "source": [
    "# Задание 3\n",
    "\n",
    "Реализовать бинарное дерево (класс Tree), в нём методы __repr__, __str__, __iter__ (итерация только по листьям)."
   ]
  },
  {
   "cell_type": "code",
   "execution_count": 12,
   "metadata": {},
   "outputs": [],
   "source": [
    "class Tree:\n",
    "    def __init__(self, value=None, left=None, right=None):\n",
    "        self.left = left\n",
    "        self.right = right\n",
    "        self.value = value\n",
    "        \n",
    "    def __iter__(self):\n",
    "        if self.left is not None:\n",
    "            yield from iter(self.left)     \n",
    "                \n",
    "        if self.right is not None:\n",
    "            yield from iter(self.right)\n",
    "            \n",
    "        if self.left == self.right == None :\n",
    "            yield self.value\n",
    "                   \n",
    "    def __str__(self):\n",
    "        return  f'{self.value} left:{str(self.left)} right:{str(self.right)}'\n",
    "    \n",
    "    def __repr__(self):\n",
    "        return f'Tree({self.value},{repr(self.left)},{repr(self.right)})'"
   ]
  },
  {
   "cell_type": "code",
   "execution_count": 13,
   "metadata": {},
   "outputs": [
    {
     "data": {
      "text/plain": [
       "[3, 4, 2]"
      ]
     },
     "execution_count": 13,
     "metadata": {},
     "output_type": "execute_result"
    }
   ],
   "source": [
    "tree = Tree(0, Tree(1, Tree(3), Tree(4)),Tree(2))\n",
    "list(tree)"
   ]
  },
  {
   "cell_type": "markdown",
   "metadata": {},
   "source": [
    "# Задание 4\n",
    "\n",
    "Реализовать простейший калькулятор математических выражений:\n",
    "- только целые числа\n",
    "- **+**, **\\-**, **\\***, **\\**\n",
    "- скобки\n",
    "\n",
    "**Можно использовать регулярные выражения**"
   ]
  },
  {
   "cell_type": "code",
   "execution_count": 91,
   "metadata": {},
   "outputs": [],
   "source": [
    "import re\n",
    "def list_calc(numbers,signs):# функция обрабатывает 2 списка: список строк с положительными числами и список строк операций +-*/\n",
    "    #делаю список чисел из списка строк\n",
    "    numbers = [int(i) for i in numbers] \n",
    "    #ищу знак в списке, после чего удаляю и применяю к соотвествующим числам, \n",
    "    #а результат записываю вместо одного из чисел(второе удаляю)\n",
    "    while '/' in signs:\n",
    "        op_index = signs.index('/')\n",
    "        signs.pop(op_index)\n",
    "        deleted_number = numbers.pop(op_index)\n",
    "        numbers[op_index] = deleted_number / numbers[op_index]\n",
    "    while '*' in signs:\n",
    "        op_index = signs.index('*')\n",
    "        signs.pop(op_index)\n",
    "        deleted_number = numbers.pop(op_index)\n",
    "        numbers[op_index] = deleted_number * numbers[op_index]\n",
    "    while '-' in signs:\n",
    "        op_index = signs.index('-')\n",
    "        signs.pop(op_index)\n",
    "        deleted_number = numbers.pop(op_index)\n",
    "        numbers[op_index] = deleted_number - numbers[op_index]\n",
    "    while '+' in signs:\n",
    "        op_index = signs.index('+')\n",
    "        signs.pop(op_index)\n",
    "        deleted_number = numbers.pop(op_index)\n",
    "        numbers[op_index] = deleted_number + numbers[op_index]\n",
    "    return numbers[0]\n",
    "def calc(expr):\n",
    "    #раскрываю скобки\n",
    "    while '(' in expr:\n",
    "        #за каждую открытую скобку +1 за закрытую -1, если 0, то значит что самая большая скобка закрылась и\n",
    "        #можно рекурсивно её обработать заменив в строке с помощью replace на результат\n",
    "        beg = i = expr.index('(')\n",
    "        bracket_counter = 1\n",
    "        while bracket_counter > 0:\n",
    "            i += 1\n",
    "            if expr[i] == '(':\n",
    "                bracket_counter += 1\n",
    "            elif expr[i] == ')':\n",
    "                bracket_counter -= 1\n",
    "        expr = expr.replace( expr[beg:i],str( calc(expr[beg+1:i]) ) )\n",
    "    # в случае если первое число отрицательное (-2+3...)\n",
    "    if expr[0] == '-':\n",
    "        expr = '0'+expr\n",
    "    #разделяем строну на числа и знаки\n",
    "    numbers = re.findall(r'[0-9]+', expr)\n",
    "    signs = re.findall(r'[\\+\\-\\*/]+', expr)\n",
    "    return list_calc(numbers,signs)"
   ]
  },
  {
   "cell_type": "code",
   "execution_count": 105,
   "metadata": {},
   "outputs": [
    {
     "data": {
      "text/plain": [
       "4"
      ]
     },
     "execution_count": 105,
     "metadata": {},
     "output_type": "execute_result"
    }
   ],
   "source": [
    "expr = '2 * (15 - 3 * 4) - 2'\n",
    "calc(expr)"
   ]
  },
  {
   "cell_type": "code",
   "execution_count": null,
   "metadata": {
    "collapsed": true,
    "jupyter": {
     "outputs_hidden": true
    }
   },
   "outputs": [],
   "source": []
  }
 ],
 "metadata": {
  "kernelspec": {
   "display_name": "Python 3",
   "language": "python",
   "name": "python3"
  },
  "language_info": {
   "codemirror_mode": {
    "name": "ipython",
    "version": 3
   },
   "file_extension": ".py",
   "mimetype": "text/x-python",
   "name": "python",
   "nbconvert_exporter": "python",
   "pygments_lexer": "ipython3",
   "version": "3.7.4"
  }
 },
 "nbformat": 4,
 "nbformat_minor": 4
}
